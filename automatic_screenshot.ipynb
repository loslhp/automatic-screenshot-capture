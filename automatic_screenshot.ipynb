{
 "cells": [
  {
   "cell_type": "code",
   "execution_count": null,
   "metadata": {},
   "outputs": [],
   "source": [
    "#Automatic Screenshot\n",
    "#pip install selenium"
   ]
  },
  {
   "cell_type": "code",
   "execution_count": 1,
   "metadata": {},
   "outputs": [],
   "source": [
    "#Script para tirar screenshot de uma pagina web\n",
    "#Using selenium and chromedriver (https://chromedriver.chromium.org/downloads)\n",
    "import time\n",
    "from selenium import webdriver\n",
    "from selenium.webdriver.chrome.options import Options\n",
    "from datetime import datetime"
   ]
  },
  {
   "cell_type": "code",
   "execution_count": 2,
   "metadata": {},
   "outputs": [
    {
     "name": "stdout",
     "output_type": "stream",
     "text": [
      "30_04_2021\n"
     ]
    }
   ],
   "source": [
    "data_atual = datetime.today().strftime('%d_%m_%Y')\n",
    "print (data_atual)"
   ]
  },
  {
   "cell_type": "code",
   "execution_count": 3,
   "metadata": {},
   "outputs": [],
   "source": [
    "#Opening chromedriver * check if it is the same version of chrome\n",
    "\n",
    "options = webdriver.ChromeOptions()\n",
    "options.headless = True\n",
    "options.add_argument('window-size=1200x600')\n",
    "#driver = webdriver.Chrome(options=options)\n",
    "driver = webdriver.Chrome(executable_path='C:/......./chromedriver.exe')\n",
    "URL = 'https:yoursite'\n",
    "driver.get(URL)\n",
    "time.sleep(10)"
   ]
  },
  {
   "cell_type": "code",
   "execution_count": 4,
   "metadata": {},
   "outputs": [],
   "source": [
    "#where the screenshot will be stored\n",
    "path = 'C:/......./screenshot/'\n",
    "filename = 'name_screenshot_' + data_atual + '.png'\n",
    "driver.get_screenshot_as_file(path + filename) \n",
    "driver.quit()"
   ]
  }
 ],
 "metadata": {
  "kernelspec": {
   "display_name": "Python 3",
   "language": "python",
   "name": "python3"
  },
  "language_info": {
   "codemirror_mode": {
    "name": "ipython",
    "version": 3
   },
   "file_extension": ".py",
   "mimetype": "text/x-python",
   "name": "python",
   "nbconvert_exporter": "python",
   "pygments_lexer": "ipython3",
   "version": "3.7.3"
  }
 },
 "nbformat": 4,
 "nbformat_minor": 2
}
